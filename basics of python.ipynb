{
 "cells": [
  {
   "cell_type": "code",
   "execution_count": 26,
   "id": "25d1a1df-1b60-4030-ad5e-585752a373ce",
   "metadata": {},
   "outputs": [
    {
     "name": "stdout",
     "output_type": "stream",
     "text": [
      "<class 'int'>\n",
      "<class 'float'>\n"
     ]
    }
   ],
   "source": [
    "a=10\n",
    "print(type(a))\n",
    "a=1.2\n",
    "print(type(a))"
   ]
  },
  {
   "cell_type": "code",
   "execution_count": 48,
   "id": "83ec8f4c-2efb-4c73-9e1a-4d087ac7acf9",
   "metadata": {},
   "outputs": [
    {
     "name": "stdout",
     "output_type": "stream",
     "text": [
      "['False', 'None', 'True', 'and', 'as', 'assert', 'async', 'await', 'break', 'class', 'continue', 'def', 'del', 'elif', 'else', 'except', 'finally', 'for', 'from', 'global', 'if', 'import', 'in', 'is', 'lambda', 'nonlocal', 'not', 'or', 'pass', 'raise', 'return', 'try', 'while', 'with', 'yield']\n"
     ]
    }
   ],
   "source": [
    "import keyword\n",
    "print((keyword.kwlist))"
   ]
  },
  {
   "cell_type": "raw",
   "id": "e26a0563-315f-49cf-a38a-73929d68328f",
   "metadata": {},
   "source": [
    "b=OB1000\n",
    "print(b)"
   ]
  },
  {
   "cell_type": "code",
   "execution_count": 50,
   "id": "1e85bbf8-eb43-4f74-a453-30ea1789c059",
   "metadata": {},
   "outputs": [
    {
     "name": "stdout",
     "output_type": "stream",
     "text": [
      "<class 'complex'>\n"
     ]
    }
   ],
   "source": [
    "c=2+3j\n",
    "print(type(c))"
   ]
  },
  {
   "cell_type": "code",
   "execution_count": 54,
   "id": "d75edefd-09e9-4a72-bac4-d81783e1f5d5",
   "metadata": {},
   "outputs": [
    {
     "name": "stdout",
     "output_type": "stream",
     "text": [
      "2\n"
     ]
    }
   ],
   "source": [
    "a=1\n",
    "b=1\n",
    "c=a+b\n",
    "print(c)"
   ]
  },
  {
   "cell_type": "code",
   "execution_count": 71,
   "id": "c4b80513-39a6-4b87-bb45-04e9cc6f7c4c",
   "metadata": {},
   "outputs": [
    {
     "name": "stdout",
     "output_type": "stream",
     "text": [
      "hus\n"
     ]
    }
   ],
   "source": [
    "S='rhushi'\n",
    "print(S[1:4])"
   ]
  },
  {
   "cell_type": "code",
   "execution_count": 75,
   "id": "328ddba1-6bc8-4167-b880-48bf167254a1",
   "metadata": {},
   "outputs": [
    {
     "name": "stdout",
     "output_type": "stream",
     "text": [
      "rhushirhushi\n"
     ]
    }
   ],
   "source": [
    "S='rhushi'\n",
    "print(S*2)"
   ]
  },
  {
   "cell_type": "code",
   "execution_count": 77,
   "id": "5394c007-c8a0-466a-847b-548810530f4c",
   "metadata": {},
   "outputs": [
    {
     "name": "stdout",
     "output_type": "stream",
     "text": [
      "6\n"
     ]
    }
   ],
   "source": [
    "S='rhushi'\n",
    "print(len(S))"
   ]
  },
  {
   "cell_type": "code",
   "execution_count": 89,
   "id": "ccbebbc6-e4c6-4866-b178-9ea5516f4f1b",
   "metadata": {},
   "outputs": [
    {
     "data": {
      "text/plain": [
       "12"
      ]
     },
     "execution_count": 89,
     "metadata": {},
     "output_type": "execute_result"
    }
   ],
   "source": [
    "int(12.6)\n"
   ]
  },
  {
   "cell_type": "code",
   "execution_count": 95,
   "id": "f637f022-ad7e-49c2-854b-db112176e7c4",
   "metadata": {},
   "outputs": [
    {
     "data": {
      "text/plain": [
       "True"
      ]
     },
     "execution_count": 95,
     "metadata": {},
     "output_type": "execute_result"
    }
   ],
   "source": [
    "bool(0)\n",
    "bool(1)"
   ]
  },
  {
   "cell_type": "code",
   "execution_count": 101,
   "id": "ba45a396-b46b-4c3d-8d9f-013786a02b83",
   "metadata": {},
   "outputs": [
    {
     "data": {
      "text/plain": [
       "140711668427480"
      ]
     },
     "execution_count": 101,
     "metadata": {},
     "output_type": "execute_result"
    }
   ],
   "source": [
    "#immulability\n",
    "a=10\n",
    "id(a)"
   ]
  },
  {
   "cell_type": "code",
   "execution_count": 103,
   "id": "d2e95fda-d6c0-40ea-8d0a-ca10794c1c75",
   "metadata": {},
   "outputs": [
    {
     "data": {
      "text/plain": [
       "140711668427832"
      ]
     },
     "execution_count": 103,
     "metadata": {},
     "output_type": "execute_result"
    }
   ],
   "source": [
    "a=21\n",
    "id(a)"
   ]
  },
  {
   "cell_type": "code",
   "execution_count": null,
   "id": "5b644e92-dbae-4356-99a7-fce5a6f1420a",
   "metadata": {},
   "outputs": [],
   "source": []
  }
 ],
 "metadata": {
  "kernelspec": {
   "display_name": "Python [conda env:base] *",
   "language": "python",
   "name": "conda-base-py"
  },
  "language_info": {
   "codemirror_mode": {
    "name": "ipython",
    "version": 3
   },
   "file_extension": ".py",
   "mimetype": "text/x-python",
   "name": "python",
   "nbconvert_exporter": "python",
   "pygments_lexer": "ipython3",
   "version": "3.12.7"
  }
 },
 "nbformat": 4,
 "nbformat_minor": 5
}
